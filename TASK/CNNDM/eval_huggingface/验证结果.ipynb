{
 "cells": [
  {
   "cell_type": "code",
   "execution_count": 1,
   "source": [
    "import torch\n",
    "from datasets import Dataset, load_metric\n",
    "metric = load_metric(\"rouge.py\")\n",
    "decoded_preds = torch.load(\"all_preds.pt\")\n",
    "# 获得原始文本标签。\n",
    "import nltk\n",
    "raw_datasets = Dataset.from_json(\"../caches/cnndailymail/cnn_dailymail_dev.json\")\n",
    "def postprocess_text(labels):\n",
    "    labels = [label.strip() for label in labels]\n",
    "    labels = [\"\\n\".join(nltk.sent_tokenize(label)) for label in labels]\n",
    "    return labels\n",
    "NEW_LABELS = postprocess_text(raw_datasets[\"highlights\"])"
   ],
   "outputs": [
    {
     "output_type": "stream",
     "name": "stderr",
     "text": [
      "Using custom data configuration default-3b310aa4abe59b96\n"
     ]
    },
    {
     "output_type": "stream",
     "name": "stdout",
     "text": [
      "Downloading and preparing dataset json/default (download: Unknown size, generated: Unknown size, post-processed: Unknown size, total: Unknown size) to C:\\Users\\yujun\\.cache\\huggingface\\datasets\\json\\default-3b310aa4abe59b96\\0.0.0...\n"
     ]
    },
    {
     "output_type": "stream",
     "name": "stderr",
     "text": []
    },
    {
     "output_type": "stream",
     "name": "stdout",
     "text": [
      "Dataset json downloaded and prepared to C:\\Users\\yujun\\.cache\\huggingface\\datasets\\json\\default-3b310aa4abe59b96\\0.0.0. Subsequent calls will reuse this data.\n"
     ]
    }
   ],
   "metadata": {}
  },
  {
   "cell_type": "code",
   "execution_count": 2,
   "source": [
    "# 评估结果。\n",
    "for pred,label in zip(decoded_preds,NEW_LABELS):\n",
    "    metric.add(prediction=pred, reference=label)\n",
    "newout = metric.compute(use_stemmer=True)\n",
    "newout"
   ],
   "outputs": [
    {
     "output_type": "execute_result",
     "data": {
      "text/plain": [
       "{'rouge1': AggregateScore(low=Score(precision=0.4354469751163531, recall=0.45789889082332, fmeasure=0.4339863509402189), mid=Score(precision=0.43785129422393815, recall=0.4605458028421304, fmeasure=0.4362479479167865), high=Score(precision=0.4403527055812671, recall=0.46291508920220575, fmeasure=0.43827063329955096)),\n",
       " 'rouge2': AggregateScore(low=Score(precision=0.20827287470344696, recall=0.21929299275373046, fmeasure=0.20744236258707485), mid=Score(precision=0.21084025898095965, recall=0.2218910942424056, fmeasure=0.2099311146156389), high=Score(precision=0.21314316525603702, recall=0.2242273945645664, fmeasure=0.21204174994477032)),\n",
       " 'rougeL': AggregateScore(low=Score(precision=0.3055379342664418, recall=0.32412823296100346, fmeasure=0.30566793168496), mid=Score(precision=0.30801402515319687, recall=0.3266445531221628, fmeasure=0.3079985504664976), high=Score(precision=0.3103443239004437, recall=0.3292256022713506, fmeasure=0.3101530633761176)),\n",
       " 'rougeLsum': AggregateScore(low=Score(precision=0.4056350260152272, recall=0.4261923805968914, fmeasure=0.40410653181856504), mid=Score(precision=0.4081486536760221, recall=0.42863364042838753, fmeasure=0.4063283824224463), high=Score(precision=0.410793714284504, recall=0.4312448080783837, fmeasure=0.40863752639813183))}"
      ]
     },
     "metadata": {},
     "execution_count": 2
    }
   ],
   "metadata": {}
  },
  {
   "cell_type": "code",
   "execution_count": 3,
   "source": [
    "newout[\"rouge2\"].mid.fmeasure\n",
    "# 验证，期望结果"
   ],
   "outputs": [
    {
     "output_type": "execute_result",
     "data": {
      "text/plain": [
       "0.2099311146156389"
      ]
     },
     "metadata": {},
     "execution_count": 3
    }
   ],
   "metadata": {}
  }
 ],
 "metadata": {
  "kernelspec": {
   "name": "python3",
   "display_name": "Python 3.7.3 64-bit"
  },
  "language_info": {
   "codemirror_mode": {
    "name": "ipython",
    "version": 3
   },
   "file_extension": ".py",
   "mimetype": "text/x-python",
   "name": "python",
   "nbconvert_exporter": "python",
   "pygments_lexer": "ipython3",
   "version": "3.7.3"
  },
  "interpreter": {
   "hash": "086317466957d500e1e3add5d1080e4cde135e955220d9fc98fd7fe59df8a909"
  }
 },
 "nbformat": 4,
 "nbformat_minor": 5
}